{
 "cells": [
  {
   "cell_type": "markdown",
   "id": "637252ff-2c47-49e9-88b5-54702ca24362",
   "metadata": {},
   "source": [
    "## Q-1"
   ]
  },
  {
   "cell_type": "code",
   "execution_count": null,
   "id": "81f6adac-363e-49e5-8917-547abf50eb4d",
   "metadata": {},
   "outputs": [],
   "source": [
    "'''\n",
    "Artificial Intelligence - It is a branch of computer science that aims to create an intelligent machine that can perform task that typically require human\n",
    "                          intelligence.                         \n",
    "E.g. of Artificial Intelligence - siri, alexa, google assistant\n",
    "\n",
    "Machine Learning - It is a subset of Artificial Intelligence. In machine learning, different algorithms are required to train the computing machine and based on\n",
    "                   the training prediction can be done. Machine learning models can be supervised, unsupervised, or semi-supervised.\n",
    "E.g. of Machine Learning - Spam filtering\n",
    "\n",
    "Deep Learning - It is a subset of machine learningthat is inspired by the structure and function of the human brain. It involves training \n",
    "                artificial neural networks with large amounts of data to perform complex tasks such as image and speech recognition, natural language processing,\n",
    "                and autonomous driving.\n",
    "E.g of deep learning - self-driving cars, facial recognition systems, and voice assistants like Siri and Alexa.\n",
    "\n",
    "'''"
   ]
  },
  {
   "cell_type": "markdown",
   "id": "7eb43323-f507-4b12-a241-005b2e046906",
   "metadata": {},
   "source": [
    "## Q-2"
   ]
  },
  {
   "cell_type": "code",
   "execution_count": null,
   "id": "0e1c094f-5eeb-4175-b107-13d335f3a63c",
   "metadata": {},
   "outputs": [],
   "source": [
    "'''\n",
    "Supervised Learning - It is a type of machine learning technique that required labeled data to train the model for doing prediction. Labeled data includes input\n",
    "                      variable and label(output variable).\n",
    "                      \n",
    "Some examples :-\n",
    "\n",
    "Image recognition = Labeled data is used to train the model includes input as images of something(cats, dogs, etc) with a label(name of the creature in image).\n",
    "\n",
    "Sentiment analysis: Given a data set of customer reviews, the goal is to train a model to predict whether a new review is positive or negative. \n",
    "                    The labeled data set used for training includes review text (input variables) and their corresponding labels (positive or negative)."
   ]
  },
  {
   "cell_type": "markdown",
   "id": "f84e3975-9545-43be-b578-7819af62b03e",
   "metadata": {},
   "source": [
    "## Q-3"
   ]
  },
  {
   "cell_type": "code",
   "execution_count": null,
   "id": "28d79a6c-1e0f-4a44-a835-b246d8671e67",
   "metadata": {},
   "outputs": [],
   "source": [
    "'''\n",
    "Unsupervised learning: It is a type of machine learning where the algorithm is trained on data that has not been labeled or categorized. In unsupervised learning,\n",
    "the algorithm is tasked with finding patterns and relationships in the data without being given specific labels or outputs to predict.\n",
    "\n",
    "Example of Unsupervised learning: \n",
    "\n",
    "Clustering : Grouping the similar data points e.g. grouping the customer based on their purchasing habit.\n",
    "Dimention reduction: Reducing the features of the dataset while retaining the relevant data in the dataset\n",
    "Anomaly Detection: Identification of the datapoints that are significantly different from the dataset.\n",
    "\n",
    "'''"
   ]
  },
  {
   "cell_type": "markdown",
   "id": "a8b057a4-474c-4c31-8334-5a58649ea275",
   "metadata": {},
   "source": [
    "## Q - 4"
   ]
  },
  {
   "cell_type": "code",
   "execution_count": null,
   "id": "5dcb6531-e220-4631-90da-efd2e0d4f47c",
   "metadata": {},
   "outputs": [],
   "source": [
    "'''\n",
    "AI - The aim is to create intelligent machine that can perform task with any human intervention\n",
    "ML - ML is a  subset of AI, focussed on building algorithms that can learn from the data without being explicitly programmed and make decision based on the pattern followed within the data.\n",
    "DL - Subset of ML, based on artificial neural network that can perform complex tasks e.g. image detection, voice recognition, \n",
    "DS - Data Science is a field that involves the extraction of insights and knowledge from data. \n",
    "\n",
    "'''"
   ]
  },
  {
   "cell_type": "markdown",
   "id": "4ba2e5cf-cbb9-4216-8d8b-9b57d97ac4bb",
   "metadata": {},
   "source": [
    "## Q-5"
   ]
  },
  {
   "cell_type": "code",
   "execution_count": null,
   "id": "fa5194f2-e8c2-4cf1-8a18-fe89e6fbf527",
   "metadata": {},
   "outputs": [],
   "source": [
    "'''\n",
    "Supervised machine learning : Algorithm is trained using labeled dataset which means output variable/label is already known.\n",
    "Unsupervised machine learning : Algorithm is trained using non-labeled dataset which means output variable/label isn't known.\n",
    "Semi-Supervised machine learning : Algorithm is trained using both labeled dataset and non-labeled data. Labeled data used to guide the learning process \n",
    "                                    while non-labeled data augment the train dataset and improve the performance of the algorithm.\n",
    "'''"
   ]
  },
  {
   "cell_type": "markdown",
   "id": "a9ee37e7-b964-4eb8-ab90-f12e2c289895",
   "metadata": {},
   "source": [
    "## Q-6"
   ]
  },
  {
   "cell_type": "code",
   "execution_count": null,
   "id": "cf7964e9-e47a-46ac-8700-b1d1a890e018",
   "metadata": {},
   "outputs": [],
   "source": [
    "'''\n",
    "Train,test,validation split is a split of large dataset in the machine learniing algorithm.\n",
    "\n",
    "Train data: It is used to train the machine learning model\n",
    "Test data: It is used to test the performance of the machine learning model.\n",
    "Validation data: It is used to tuned the hyperparameters to improve the performance of the model."
   ]
  },
  {
   "cell_type": "markdown",
   "id": "59b086ad-aed8-444e-b101-8ca75006ae19",
   "metadata": {},
   "source": [
    "## Q-7"
   ]
  },
  {
   "cell_type": "code",
   "execution_count": null,
   "id": "7e2979a7-ea6b-457f-bbdf-fc3db9d31a2b",
   "metadata": {},
   "outputs": [],
   "source": [
    "'''\n",
    "Clustering is done that group the data points together based on their similarity. Anomalies can be identified as data points\n",
    "that do not belong to any cluster or belong to a cluster with very few data points.\n",
    "'''"
   ]
  },
  {
   "cell_type": "markdown",
   "id": "b6a32d14-39bb-4ff3-8d7c-7d3229a35784",
   "metadata": {},
   "source": [
    "## Q-8"
   ]
  },
  {
   "cell_type": "code",
   "execution_count": null,
   "id": "17e7fd81-7176-48a8-af30-091013ef2290",
   "metadata": {},
   "outputs": [],
   "source": [
    "'''\n",
    "Supervised Learning Algorithms:\n",
    "\n",
    "Linear Regression\n",
    "Logistic Regression\n",
    "Decision Trees\n",
    "Random Forest\n",
    "Naive Bayes\n",
    "Support Vector Machines (SVM)\n",
    "K-Nearest Neighbor (KNN)\n",
    "Neural Networks\n",
    "\n",
    "\n",
    "Unsupervised Learning Algorithms:\n",
    "\n",
    "K-Means Clustering\n",
    "Hierarchical Clustering\n",
    "Principal Component Analysis (PCA)\n",
    "Independent Component Analysis (ICA)\n",
    "Association Rule Learning\n",
    "Self-Organizing Maps (SOM)\n",
    "Gaussian Mixture Models (GMM)\n",
    "t-SNE (t-Distributed Stochastic Neighbor Embedding)\n",
    "'''"
   ]
  }
 ],
 "metadata": {
  "kernelspec": {
   "display_name": "Python 3 (ipykernel)",
   "language": "python",
   "name": "python3"
  },
  "language_info": {
   "codemirror_mode": {
    "name": "ipython",
    "version": 3
   },
   "file_extension": ".py",
   "mimetype": "text/x-python",
   "name": "python",
   "nbconvert_exporter": "python",
   "pygments_lexer": "ipython3",
   "version": "3.10.8"
  }
 },
 "nbformat": 4,
 "nbformat_minor": 5
}
